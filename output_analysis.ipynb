{
 "cells": [
  {
   "cell_type": "markdown",
   "metadata": {},
   "source": [
    "# Output analysis of inventory simulation model\n"
   ]
  },
  {
   "cell_type": "markdown",
   "metadata": {},
   "source": [
    "## Table of contents\n",
    "\n",
    "1. [Using the simulation model](#usingmodel)\n",
    "2. [Output analysis of a terminating simulation](#terminatingsim)  \n",
    "    2.1 [Independence of replications](#indep)  \n",
    "3. [Minimizing inventory costs](#optim)  "
   ]
  },
  {
   "cell_type": "markdown",
   "metadata": {},
   "source": [
    " ## 1. Using the simulation model\n",
    " <a id=\"usingmodel\"></a>"
   ]
  },
  {
   "cell_type": "code",
   "execution_count": 1,
   "metadata": {},
   "outputs": [],
   "source": [
    "import numpy as np\n",
    "import pandas as pd\n",
    "import matplotlib.pyplot as plt\n",
    "import model"
   ]
  },
  {
   "cell_type": "markdown",
   "metadata": {},
   "source": [
    "To run a single iteration of the inventory simulation model, use the run function of the model.py file. User will need to enter:\n",
    "\n",
    "- a simulation length (expressed in days) after which the simulation stops\n",
    "- a reorder point specifying the inevntory level (in units) that triggers an order to replenish the stocks \n",
    "- an order size specifying the number of units to order\n",
    "\n",
    "The function will return a dictionary containing user input parameters (reorder point, order size) and the model output (average monthly total inventory cost, ordering cost, shortage cost and holding cost).\n",
    "\n",
    "Let's run a few iteration and analyze output:"
   ]
  },
  {
   "cell_type": "code",
   "execution_count": 13,
   "metadata": {},
   "outputs": [
    {
     "data": {
      "text/plain": [
       "{'reorder_point': 20,\n",
       " 'order_size': 20,\n",
       " 'total_cost': 125.2,\n",
       " 'ordering_cost': 95.0,\n",
       " 'holding_cost': 9.8,\n",
       " 'shortage_cost': 20.4}"
      ]
     },
     "execution_count": 13,
     "metadata": {},
     "output_type": "execute_result"
    }
   ],
   "source": [
    "# perform a single run of the inventory simulation model\n",
    "model.run(length = 120., reorder_point = 20, order_size = 20)"
   ]
  },
  {
   "cell_type": "code",
   "execution_count": 12,
   "metadata": {},
   "outputs": [
    {
     "data": {
      "text/plain": [
       "{'reorder_point': 20,\n",
       " 'order_size': 80,\n",
       " 'total_cost': 126.9,\n",
       " 'ordering_cost': 82.5,\n",
       " 'holding_cost': 34.5,\n",
       " 'shortage_cost': 9.9}"
      ]
     },
     "execution_count": 12,
     "metadata": {},
     "output_type": "execute_result"
    }
   ],
   "source": [
    "# run alternative configuration of the model with increased order size\n",
    "model.run(length = 120., reorder_point = 20, order_size = 80)"
   ]
  },
  {
   "cell_type": "markdown",
   "metadata": {},
   "source": [
    "In these two iterations, we maintained the same reorder point and increased the order size from 20 to 80 units. \n",
    "\n",
    "This resulted in lower shortage cost (since bigger orders are placed) and lower ordering costs (orders are not placed as frequently). Holding costs predictably increased because larger inventory levels were maintained.\n",
    "\n",
    "In terms of total costs, the second configuration isn't as good as the first one."
   ]
  },
  {
   "cell_type": "code",
   "execution_count": 15,
   "metadata": {},
   "outputs": [
    {
     "data": {
      "text/plain": [
       "{'reorder_point': 10,\n",
       " 'order_size': 20,\n",
       " 'total_cost': 146.7,\n",
       " 'ordering_cost': 98.7,\n",
       " 'holding_cost': 3.9,\n",
       " 'shortage_cost': 44.2}"
      ]
     },
     "execution_count": 15,
     "metadata": {},
     "output_type": "execute_result"
    }
   ],
   "source": [
    "# run alternative configuration with smaller reorder point\n",
    "model.run(length = 120., reorder_point = 10, order_size = 20)"
   ]
  },
  {
   "cell_type": "markdown",
   "metadata": {},
   "source": [
    "In this configuration, the reorder point was decrease. This reduced the average holding costs (because a smaller inventory is being maintained) at the expense of a large increase in shortage cost.\n",
    "\n",
    "This configuration is so far the worse of the three in terms of total costs."
   ]
  },
  {
   "cell_type": "markdown",
   "metadata": {},
   "source": [
    "## 2. Output analysis of a terminating simulation\n",
    "\n",
    " <a id=\"terminatingsim\"></a>\n",
    " \n",
    "In this section, we'll simulate an inventory system with a 30 units reorder point and an order size of 60 units. We will estimate the avrerage monthly cost of this inventory policy after 120 months.\n",
    "\n",
    "Since there is an event ending the simulation (after 120 months), the simulation will be analyzed as a terminating model (as opposed to analyzing steady state parameters for example)."
   ]
  },
  {
   "cell_type": "code",
   "execution_count": 2,
   "metadata": {
    "scrolled": true
   },
   "outputs": [
    {
     "name": "stdout",
     "output_type": "stream",
     "text": [
      "First replication total costs: 126.0\n",
      "Second replication total costs: 127.2\n"
     ]
    }
   ],
   "source": [
    "# define simulation parameters\n",
    "length = 120\n",
    "reorder_point = 30\n",
    "order_size = 60\n",
    "\n",
    "# run independent replications\n",
    "np.random.seed(1066)\n",
    "first_run = model.run(length, reorder_point, order_size)\n",
    "second_run = model.run(length, reorder_point, order_size)\n",
    "\n",
    "# print results\n",
    "print('First replication total costs:', first_run['total_cost'])\n",
    "print('Second replication total costs:', second_run['total_cost'])"
   ]
  },
  {
   "cell_type": "markdown",
   "metadata": {},
   "source": [
    "The two independent replications of the model resulted in different total cost output, because of the randomness included in the model. \n",
    "This means that a single run will not provide a definitive measure of total inventory cost. Instead, we can run several independent replications of the simulation to build a confidence interval for total inventory costs.\n",
    "\n",
    "###      2.1 Building a confidence interval for total inventory cost"
   ]
  },
  {
   "cell_type": "code",
   "execution_count": 3,
   "metadata": {},
   "outputs": [
    {
     "data": {
      "text/html": [
       "<div>\n",
       "<style scoped>\n",
       "    .dataframe tbody tr th:only-of-type {\n",
       "        vertical-align: middle;\n",
       "    }\n",
       "\n",
       "    .dataframe tbody tr th {\n",
       "        vertical-align: top;\n",
       "    }\n",
       "\n",
       "    .dataframe thead th {\n",
       "        text-align: right;\n",
       "    }\n",
       "</style>\n",
       "<table border=\"1\" class=\"dataframe\">\n",
       "  <thead>\n",
       "    <tr style=\"text-align: right;\">\n",
       "      <th></th>\n",
       "      <th>reorder_point</th>\n",
       "      <th>order_size</th>\n",
       "      <th>total_cost</th>\n",
       "      <th>ordering_cost</th>\n",
       "      <th>holding_cost</th>\n",
       "      <th>shortage_cost</th>\n",
       "    </tr>\n",
       "  </thead>\n",
       "  <tbody>\n",
       "    <tr>\n",
       "      <th>0</th>\n",
       "      <td>30</td>\n",
       "      <td>60</td>\n",
       "      <td>126.0</td>\n",
       "      <td>87.4</td>\n",
       "      <td>35.6</td>\n",
       "      <td>2.9</td>\n",
       "    </tr>\n",
       "    <tr>\n",
       "      <th>1</th>\n",
       "      <td>30</td>\n",
       "      <td>60</td>\n",
       "      <td>127.2</td>\n",
       "      <td>86.5</td>\n",
       "      <td>36.7</td>\n",
       "      <td>4.0</td>\n",
       "    </tr>\n",
       "    <tr>\n",
       "      <th>2</th>\n",
       "      <td>30</td>\n",
       "      <td>60</td>\n",
       "      <td>123.0</td>\n",
       "      <td>84.2</td>\n",
       "      <td>35.5</td>\n",
       "      <td>3.2</td>\n",
       "    </tr>\n",
       "    <tr>\n",
       "      <th>3</th>\n",
       "      <td>30</td>\n",
       "      <td>60</td>\n",
       "      <td>126.6</td>\n",
       "      <td>87.3</td>\n",
       "      <td>35.1</td>\n",
       "      <td>4.2</td>\n",
       "    </tr>\n",
       "    <tr>\n",
       "      <th>4</th>\n",
       "      <td>30</td>\n",
       "      <td>60</td>\n",
       "      <td>125.2</td>\n",
       "      <td>85.7</td>\n",
       "      <td>36.4</td>\n",
       "      <td>3.1</td>\n",
       "    </tr>\n",
       "    <tr>\n",
       "      <th>5</th>\n",
       "      <td>30</td>\n",
       "      <td>60</td>\n",
       "      <td>125.5</td>\n",
       "      <td>85.6</td>\n",
       "      <td>35.3</td>\n",
       "      <td>4.5</td>\n",
       "    </tr>\n",
       "    <tr>\n",
       "      <th>6</th>\n",
       "      <td>30</td>\n",
       "      <td>60</td>\n",
       "      <td>126.2</td>\n",
       "      <td>87.3</td>\n",
       "      <td>36.0</td>\n",
       "      <td>2.9</td>\n",
       "    </tr>\n",
       "    <tr>\n",
       "      <th>7</th>\n",
       "      <td>30</td>\n",
       "      <td>60</td>\n",
       "      <td>124.7</td>\n",
       "      <td>87.0</td>\n",
       "      <td>35.6</td>\n",
       "      <td>2.1</td>\n",
       "    </tr>\n",
       "    <tr>\n",
       "      <th>8</th>\n",
       "      <td>30</td>\n",
       "      <td>60</td>\n",
       "      <td>127.0</td>\n",
       "      <td>87.2</td>\n",
       "      <td>35.5</td>\n",
       "      <td>4.3</td>\n",
       "    </tr>\n",
       "    <tr>\n",
       "      <th>9</th>\n",
       "      <td>30</td>\n",
       "      <td>60</td>\n",
       "      <td>125.9</td>\n",
       "      <td>86.6</td>\n",
       "      <td>35.4</td>\n",
       "      <td>3.9</td>\n",
       "    </tr>\n",
       "    <tr>\n",
       "      <th>10</th>\n",
       "      <td>30</td>\n",
       "      <td>60</td>\n",
       "      <td>121.0</td>\n",
       "      <td>82.7</td>\n",
       "      <td>35.4</td>\n",
       "      <td>2.9</td>\n",
       "    </tr>\n",
       "    <tr>\n",
       "      <th>11</th>\n",
       "      <td>30</td>\n",
       "      <td>60</td>\n",
       "      <td>126.5</td>\n",
       "      <td>87.8</td>\n",
       "      <td>35.6</td>\n",
       "      <td>3.2</td>\n",
       "    </tr>\n",
       "    <tr>\n",
       "      <th>12</th>\n",
       "      <td>30</td>\n",
       "      <td>60</td>\n",
       "      <td>125.3</td>\n",
       "      <td>85.2</td>\n",
       "      <td>34.6</td>\n",
       "      <td>5.4</td>\n",
       "    </tr>\n",
       "    <tr>\n",
       "      <th>13</th>\n",
       "      <td>30</td>\n",
       "      <td>60</td>\n",
       "      <td>125.6</td>\n",
       "      <td>85.7</td>\n",
       "      <td>35.3</td>\n",
       "      <td>4.6</td>\n",
       "    </tr>\n",
       "    <tr>\n",
       "      <th>14</th>\n",
       "      <td>30</td>\n",
       "      <td>60</td>\n",
       "      <td>120.0</td>\n",
       "      <td>81.2</td>\n",
       "      <td>37.6</td>\n",
       "      <td>1.2</td>\n",
       "    </tr>\n",
       "  </tbody>\n",
       "</table>\n",
       "</div>"
      ],
      "text/plain": [
       "    reorder_point  order_size  total_cost  ordering_cost  holding_cost  \\\n",
       "0              30          60       126.0           87.4          35.6   \n",
       "1              30          60       127.2           86.5          36.7   \n",
       "2              30          60       123.0           84.2          35.5   \n",
       "3              30          60       126.6           87.3          35.1   \n",
       "4              30          60       125.2           85.7          36.4   \n",
       "5              30          60       125.5           85.6          35.3   \n",
       "6              30          60       126.2           87.3          36.0   \n",
       "7              30          60       124.7           87.0          35.6   \n",
       "8              30          60       127.0           87.2          35.5   \n",
       "9              30          60       125.9           86.6          35.4   \n",
       "10             30          60       121.0           82.7          35.4   \n",
       "11             30          60       126.5           87.8          35.6   \n",
       "12             30          60       125.3           85.2          34.6   \n",
       "13             30          60       125.6           85.7          35.3   \n",
       "14             30          60       120.0           81.2          37.6   \n",
       "\n",
       "    shortage_cost  \n",
       "0             2.9  \n",
       "1             4.0  \n",
       "2             3.2  \n",
       "3             4.2  \n",
       "4             3.1  \n",
       "5             4.5  \n",
       "6             2.9  \n",
       "7             2.1  \n",
       "8             4.3  \n",
       "9             3.9  \n",
       "10            2.9  \n",
       "11            3.2  \n",
       "12            5.4  \n",
       "13            4.6  \n",
       "14            1.2  "
      ]
     },
     "execution_count": 3,
     "metadata": {},
     "output_type": "execute_result"
    }
   ],
   "source": [
    "np.random.seed(1066)\n",
    "length = 120.\n",
    "num_replications = 15\n",
    "\n",
    "df = model.run_experiments(length, [reorder_point], [order_size], num_replications)\n",
    "df"
   ]
  },
  {
   "cell_type": "code",
   "execution_count": 4,
   "metadata": {},
   "outputs": [
    {
     "name": "stdout",
     "output_type": "stream",
     "text": [
      "90 percent confidence interval for monthly inventory cost: [124.1, 126.0]\n"
     ]
    }
   ],
   "source": [
    "from scipy import stats\n",
    " \n",
    "# compute sample mean and standard deviation\n",
    "mean = df['total_cost'].mean()\n",
    "std = df['total_cost'].std()\n",
    "\n",
    "# compute t-statistics for a 90% confidence interval\n",
    "alpha = 1-.9\n",
    "tstat = stats.t.ppf(1-alpha/2, num_replications - 1)\n",
    "\n",
    "# compute confidence interval\n",
    "error_margin = tstat * std / np.sqrt(num_replications)\n",
    "lbound = mean - error_margin\n",
    "ubound = mean + error_margin\n",
    "\n",
    "print(\"90 percent confidence interval for monthly inventory cost: [%.1f, %.1f]\" % (lbound, ubound))"
   ]
  },
  {
   "cell_type": "markdown",
   "metadata": {},
   "source": [
    "## 3. Minimizing inventory costs\n",
    "\n",
    "<a id=\"optim\"></a>"
   ]
  },
  {
   "cell_type": "code",
   "execution_count": null,
   "metadata": {},
   "outputs": [],
   "source": []
  }
 ],
 "metadata": {
  "kernelspec": {
   "display_name": "Python 3",
   "language": "python",
   "name": "python3"
  },
  "language_info": {
   "codemirror_mode": {
    "name": "ipython",
    "version": 3
   },
   "file_extension": ".py",
   "mimetype": "text/x-python",
   "name": "python",
   "nbconvert_exporter": "python",
   "pygments_lexer": "ipython3",
   "version": "3.7.4"
  }
 },
 "nbformat": 4,
 "nbformat_minor": 4
}
